{
 "cells": [
  {
   "cell_type": "code",
   "execution_count": 10,
   "metadata": {},
   "outputs": [
    {
     "data": {
      "image/png": "[encoded data removed]",
      "text/plain": [
       "<Figure size 432x288 with 1 Axes>"
      ]
     },
     "metadata": {
      "needs_background": "light"
     },
     "output_type": "display_data"
    }
   ],
   "source": [
    "import numpy as np\n",
    "import matplotlib.pyplot as plt\n",
    "import matplotlib\n",
    "\n",
    "plt.rc(\"text\", usetex=True)\n",
    "plt.rc(\"font\", family=\"serif\")\n",
    "plt.style.use(\"bmh\")\n",
    "plt.style.use(\n",
    "    {\n",
    "        \"axes.facecolor\": \"white\",\n",
    "        \"xtick.direction\": \"out\",\n",
    "        \"ytick.direction\": \"out\",\n",
    "        \"xtick.top\": \"True\",\n",
    "        \"ytick.right\": \"True\",\n",
    "    }\n",
    ")\n",
    "\n",
    "\n",
    "\n",
    "def mscatter(Rflats,P,ax=None, m=None, **kw):\n",
    "    import matplotlib.markers as mmarkers\n",
    "    plt.semilogx()\n",
    "    plt.semilogy()\n",
    "\n",
    "    y_ticks = np.arange(1, 16, 3)\n",
    "    plt.ylabel('$P$')\n",
    "    plt.xlabel('R$_{flat}$ [pc]')\n",
    "    plt.ylim(1, 16)\n",
    "    plt.xlim(0.001,0.25)\n",
    "    plt.yticks(y_ticks)\n",
    "    plt.tight_layout()\n",
    "\n",
    "    if not ax: ax=plt.gca()\n",
    "    sc = ax.scatter(Rflats,P,**kw)\n",
    "    if (m is not None) and (len(m)==len(Rflats)):\n",
    "        paths = []\n",
    "        for marker in m:\n",
    "            if isinstance(marker, mmarkers.MarkerStyle):\n",
    "                marker_obj = marker\n",
    "            else:\n",
    "                marker_obj = mmarkers.MarkerStyle(marker)\n",
    "            path = marker_obj.get_path().transformed(\n",
    "                        marker_obj.get_transform())\n",
    "            paths.append(path)\n",
    "        sc.set_paths(paths)\n",
    "    return sc\n",
    "\n",
    "\n",
    "N = 25\n",
    "# x, y = np.random.rand(2, N)\n",
    "input_file=open('./P_against_Rflat_plot/P_Rflat_Seifried2015_added','r')\n",
    "Rflats, P = np.loadtxt(input_file,unpack=True, usecols=(1,2))\n",
    "# s = np.random.randint(10, 220, size=N)\n",
    "m = np.repeat([\"o\", \"s\", \"P\", \".\", \"+\"], N/5)\n",
    "# c = np.repeat([\"g\", \"b\", \"r\", \"m\", \"k\"], N/5)\n",
    "\n",
    "fig, ax = plt.subplots()\n",
    "\n",
    "from matplotlib.patches import Patch\n",
    "from matplotlib.lines import Line2D\n",
    "\n",
    "legend_elements = [\n",
    "               Line2D([0], [0], marker='s', color='w', label='NoMag',\n",
    "                      markerfacecolor='black', markersize=8),\n",
    "               Line2D([0], [0], marker='P', color='w', label='para\\_B1',\n",
    "                      markerfacecolor='black', markersize=6),\n",
    "               Line2D([0], [0], marker='P', color='w', label='para\\_B2',\n",
    "                      markerfacecolor='black', markersize=8.25),\n",
    "               Line2D([0], [0], marker='.', color='w', label='perp\\_B1',\n",
    "                      markerfacecolor='black', markersize=10),\n",
    "               Line2D([0], [0], marker='o', color='w', label='perp\\_B2',\n",
    "                      markerfacecolor='black', markersize=8),\n",
    "               ]\n",
    "leg = plt.legend(handles=legend_elements, loc=0, frameon=1, handlelength=5)\n",
    "frame = leg.get_frame()\n",
    "frame.set_facecolor(\"floralwhite\")\n",
    "\n",
    "rect = matplotlib.patches.Rectangle((0.01,1.1892), 0.07, 1.0241, linewidth=5, edgecolor='67', facecolor='none')\n",
    "ax.add_patch(rect)\n",
    "\n",
    "\n",
    "scatter = mscatter(Rflats, P, m=m, ax=ax)\n",
    "\n",
    "plt.savefig(\"./P_against_Rflat_plot/P_against_Rflat_Seifried2015_added.png\", dpi=400, bbox_inches=\"tight\")\n",
    "\n",
    "plt.show()"
   ]
  },
  {
   "cell_type": "code",
   "execution_count": 2,
   "metadata": {},
   "outputs": [],
   "source": [
    "plt.show()"
   ]
  },
  {
   "cell_type": "code",
   "execution_count": 4,
   "metadata": {},
   "outputs": [
    {
     "ename": "TypeError",
     "evalue": "'AxesSubplot' object is not subscriptable",
     "output_type": "error",
     "traceback": [
      "\u001b[0;31m---------------------------------------------------------------------------\u001b[0m",
      "\u001b[0;31mTypeError\u001b[0m                                 Traceback (most recent call last)",
      "\u001b[0;32m<ipython-input-4-c983756a9928>\u001b[0m in \u001b[0;36m<module>\u001b[0;34m\u001b[0m\n\u001b[1;32m      8\u001b[0m                 \u001b[0max\u001b[0m\u001b[0;34m[\u001b[0m\u001b[0mi\u001b[0m\u001b[0;34m,\u001b[0m \u001b[0mj\u001b[0m\u001b[0;34m]\u001b[0m\u001b[0;34m.\u001b[0m\u001b[0mscatter\u001b[0m\u001b[0;34m(\u001b[0m\u001b[0mx\u001b[0m\u001b[0;34m[\u001b[0m\u001b[0mk\u001b[0m\u001b[0;34m,\u001b[0m \u001b[0mi\u001b[0m\u001b[0;34m]\u001b[0m\u001b[0;34m,\u001b[0m \u001b[0mx\u001b[0m\u001b[0;34m[\u001b[0m\u001b[0mk\u001b[0m\u001b[0;34m,\u001b[0m \u001b[0mj\u001b[0m\u001b[0;34m]\u001b[0m\u001b[0;34m,\u001b[0m \u001b[0mcolor\u001b[0m\u001b[0;34m=\u001b[0m\u001b[0mcolors\u001b[0m\u001b[0;34m[\u001b[0m\u001b[0mlabels\u001b[0m\u001b[0;34m[\u001b[0m\u001b[0mk\u001b[0m\u001b[0;34m]\u001b[0m\u001b[0;34m]\u001b[0m\u001b[0;34m,\u001b[0m \u001b[0mmarker\u001b[0m \u001b[0;34m=\u001b[0m \u001b[0mmarkers\u001b[0m\u001b[0;34m[\u001b[0m\u001b[0my\u001b[0m\u001b[0;34m[\u001b[0m\u001b[0mk\u001b[0m\u001b[0;34m]\u001b[0m\u001b[0;34m]\u001b[0m\u001b[0;34m,\u001b[0m \u001b[0ms\u001b[0m\u001b[0;34m=\u001b[0m\u001b[0;36m40\u001b[0m\u001b[0;34m,\u001b[0m \u001b[0mcmap\u001b[0m\u001b[0;34m=\u001b[0m\u001b[0;34m'viridis'\u001b[0m\u001b[0;34m)\u001b[0m\u001b[0;34m\u001b[0m\u001b[0;34m\u001b[0m\u001b[0m\n\u001b[1;32m      9\u001b[0m             \u001b[0;32melse\u001b[0m\u001b[0;34m:\u001b[0m\u001b[0;34m\u001b[0m\u001b[0;34m\u001b[0m\u001b[0m\n\u001b[0;32m---> 10\u001b[0;31m                 \u001b[0max\u001b[0m\u001b[0;34m[\u001b[0m\u001b[0mi\u001b[0m\u001b[0;34m,\u001b[0m\u001b[0mj\u001b[0m\u001b[0;34m]\u001b[0m\u001b[0;34m.\u001b[0m\u001b[0mtext\u001b[0m\u001b[0;34m(\u001b[0m\u001b[0;36m0.15\u001b[0m\u001b[0;34m,\u001b[0m \u001b[0;36m0.3\u001b[0m\u001b[0;34m,\u001b[0m \u001b[0mSuperman\u001b[0m\u001b[0;34m[\u001b[0m\u001b[0mi\u001b[0m\u001b[0;34m]\u001b[0m\u001b[0;34m,\u001b[0m \u001b[0mfontsize\u001b[0m \u001b[0;34m=\u001b[0m \u001b[0;36m8\u001b[0m\u001b[0;34m)\u001b[0m\u001b[0;34m\u001b[0m\u001b[0;34m\u001b[0m\u001b[0m\n\u001b[0m",
      "\u001b[0;31mTypeError\u001b[0m: 'AxesSubplot' object is not subscriptable"
     ]
    }
   ],
   "source": [
    "markers = [\"o\" , \"s\" , \"D\"]\n",
    "colors = [\"red\", \"green\", \"blue\"]\n",
    "\n",
    "for i in range(4):\n",
    "    for j in range(4):\n",
    "        for k in range(x.shape[0]):\n",
    "            if(i != j):\n",
    "                ax[i, j].scatter(x[k, i], x[k, j], color=colors[labels[k]], marker = markers[y[k]], s=40, cmap='viridis')  \n",
    "            else:\n",
    "                ax[i,j].text(0.15, 0.3, Superman[i], fontsize = 8)"
   ]
  },
  {
   "cell_type": "code",
   "execution_count": null,
   "metadata": {},
   "outputs": [],
   "source": [
    "import numpy as np\n",
    "import matplotlib.pyplot as plt\n",
    "\n",
    "def mscatter(x,y,ax=None, m=None, **kw):\n",
    "    import matplotlib.markers as mmarkers\n",
    "    if not ax: ax=plt.gca()\n",
    "    sc = ax.scatter(x,y,**kw)\n",
    "    if (m is not None) and (len(m)==len(x)):\n",
    "        paths = []\n",
    "        for marker in m:\n",
    "            if isinstance(marker, mmarkers.MarkerStyle):\n",
    "                marker_obj = marker\n",
    "            else:\n",
    "                marker_obj = mmarkers.MarkerStyle(marker)\n",
    "            path = marker_obj.get_path().transformed(\n",
    "                        marker_obj.get_transform())\n",
    "            paths.append(path)\n",
    "        sc.set_paths(paths)\n",
    "    return sc\n",
    "\n",
    "\n",
    "N = 40\n",
    "x, y, c = np.random.rand(3, N)\n",
    "s = np.random.randint(10, 220, size=N)\n",
    "m = np.repeat([\"o\", \"s\", \"D\", \"*\"], N/4)\n",
    "\n",
    "fig, ax = plt.subplots()\n",
    "\n",
    "scatter = mscatter(x, y, c=c, s=s, m=m, ax=ax)\n",
    "\n",
    "plt.show()\n"
   ]
  }
 ],
 "metadata": {
  "kernelspec": {
   "display_name": "Python 3",
   "language": "python",
   "name": "python3"
  },
  "language_info": {
   "codemirror_mode": {
    "name": "ipython",
    "version": 3
   },
   "file_extension": ".py",
   "mimetype": "text/x-python",
   "name": "python",
   "nbconvert_exporter": "python",
   "pygments_lexer": "ipython3",
   "version": "3.7.4"
  }
 },
 "nbformat": 4,
 "nbformat_minor": 2
}
