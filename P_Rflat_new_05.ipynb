{
 "cells": [
  {
   "cell_type": "markdown",
   "metadata": {},
   "source": [
    "## This is the plot of P and Rflat amounts adding #Seifried2015 points to the plot"
   ]
  },
  {
   "cell_type": "code",
   "execution_count": 1,
   "metadata": {},
   "outputs": [],
   "source": [
    "import numpy as np\n",
    "import matplotlib\n",
    "import matplotlib.pyplot as plt\n",
    "import subprocess\n",
    "import sys, os\n",
    "import math"
   ]
  },
  {
   "cell_type": "code",
   "execution_count": 2,
   "metadata": {},
   "outputs": [
    {
     "data": {
      "text/plain": [
       "array([0.06354412, 0.17086012, 0.04605969, 0.11323734, 0.02709556,\n",
       "       0.00343611, 0.15011896, 0.13477333, 0.15883723, 0.00829601,\n",
       "       0.02257356, 0.00422964, 0.1805606 , 0.02762797, 0.0012024 ,\n",
       "       0.011     , 0.03      , 0.028     , 0.0075    , 0.043     ,\n",
       "       0.015     , 0.017     , 0.0041    , 0.009     ])"
      ]
     },
     "execution_count": 2,
     "metadata": {},
     "output_type": "execute_result"
    }
   ],
   "source": [
    "input_file=open('./P_against_Rflat_plot/P_Rflat_Seifried2015_added','r')\n",
    "N, Rflats, P = np.loadtxt(input_file,unpack=True, usecols=(0,1,2))\n",
    "\n",
    "Rflats"
   ]
  },
  {
   "cell_type": "code",
   "execution_count": 23,
   "metadata": {},
   "outputs": [
    {
     "ename": "SyntaxError",
     "evalue": "positional argument follows keyword argument (<ipython-input-23-1e283cc7aca2>, line 81)",
     "output_type": "error",
     "traceback": [
      "\u001b[0;36m  File \u001b[0;32m\"<ipython-input-23-1e283cc7aca2>\"\u001b[0;36m, line \u001b[0;32m81\u001b[0m\n\u001b[0;31m    [1.50118961e-01], [4.05469957e+00], marker='P', facecolor = 'r', hatch=' ' #job07\u001b[0m\n\u001b[0m                     ^\u001b[0m\n\u001b[0;31mSyntaxError\u001b[0m\u001b[0;31m:\u001b[0m positional argument follows keyword argument\n"
     ]
    }
   ],
   "source": [
    "def makePlot (N, Rflats, P, plotType):\n",
    "   \n",
    "    plt.rc(\"text\", usetex=True)\n",
    "    plt.rc(\"font\", family=\"serif\")\n",
    "    plt.style.use(\"bmh\")\n",
    "    plt.style.use(\n",
    "        {\n",
    "            \"axes.facecolor\": \"white\",\n",
    "            \"xtick.direction\": \"out\",\n",
    "            \"ytick.direction\": \"out\",\n",
    "            \"xtick.top\": \"True\",\n",
    "            \"ytick.right\": \"True\",\n",
    "        }\n",
    "    )\n",
    "\n",
    "\n",
    "   \n",
    "    ax = fig1.add_subplot(1,1,1)\n",
    "    #ax.set_xscale(\"log\")\n",
    "    #ax.set_yscale('log')\n",
    "    plt.semilogx()\n",
    "    plt.semilogy()\n",
    "    \n",
    "    y_ticks = np.arange(1, 16, 3)\n",
    "    plt.ylabel('$P$')\n",
    "    plt.xlabel('R$_{flat}$ [pc]')\n",
    "    plt.ylim(1, 16)\n",
    "    plt.xlim(0.001,0.25)\n",
    "    plt.yticks(y_ticks)\n",
    "    plt.tight_layout()\n",
    "    \n",
    "    rect = matplotlib.patches.Rectangle((0.01,1.1892), 0.07, 1.0241, linewidth=5, edgecolor='67', facecolor='none')\n",
    "    ax.add_patch(rect)\n",
    "        \n",
    "    #from six.moves import input\n",
    "    #global Indemarker\n",
    "    #Indemarker = input(Indemarker)\n",
    "    Indemarker = ['+', '.', 'o', 's', 'P']\n",
    "    Indecolor = ['g', 'b', 'r', 'm']\n",
    "    N = np.arange(1,25)\n",
    "    eps = 1e-13\n",
    "    \n",
    "\n",
    "    from matplotlib.patches import Patch\n",
    "    from matplotlib.lines import Line2D\n",
    "    \n",
    "    legend_elements = [\n",
    "                   Line2D([0], [0], marker='s', color='w', label='NoMag',\n",
    "                          markerfacecolor='black', markersize=8),\n",
    "                   Line2D([0], [0], marker='P', color='w', label='para\\_B1',\n",
    "                          markerfacecolor='black', markersize=6),\n",
    "                   Line2D([0], [0], marker='P', color='w', label='para\\_B2',\n",
    "                          markerfacecolor='black', markersize=8.25),\n",
    "                   Line2D([0], [0], marker='.', color='w', label='perp\\_B1',\n",
    "                          markerfacecolor='black', markersize=10),\n",
    "                   Line2D([0], [0], marker='o', color='w', label='perp\\_B2',\n",
    "                          markerfacecolor='black', markersize=8),\n",
    "                   ]\n",
    "    leg = plt.legend(handles=legend_elements, loc=0, frameon=1, handlelength=5)\n",
    "    frame = leg.get_frame()\n",
    "    frame.set_facecolor(\"floralwhite\")\n",
    "\n",
    "\n",
    "\n",
    "\n",
    "\n",
    "\n",
    "#             rect = matplotlib.patches.Rectangle((0.01,1.1892), 0.07, 1.0241, color='67')\n",
    "#             ax.add_patch(rect)\n",
    "\n",
    "    plt.text(0.0012,10.02,'M1', color=\"red\",\n",
    "             bbox=dict(facecolor='white',edgecolor='floralwhite',boxstyle='square'))\n",
    "    plt.text(0.0012,8.79,'M2', color=\"green\",\n",
    "             bbox=dict(facecolor='white',edgecolor='floralwhite',boxstyle='square'))\n",
    "    plt.text(0.0012,7.55,'M3', color=\"blue\",\n",
    "             bbox=dict(facecolor='white',edgecolor='floralwhite',boxstyle='square'))\n",
    "    plt.text(0.0012,11.55,'Seifried2015, Table 3.', color=\"magenta\",\n",
    "             bbox=dict(facecolor='white',edgecolor='floralwhite',boxstyle='square'))\n",
    "\n",
    "    ax.scatter([1.70860120e-01], [4.68404061e+00], marker='+', facecolor = 'r', hatch=' ' #job02\n",
    "               [1.50118961e-01], [4.05469957e+00], marker='P', facecolor = 'r', hatch=' ' #job07\n",
    "               [1.13237339e-01], [2.62489332e+00], marker='.', facecolor = 'r', hatch=' ' #job04\n",
    "               [6.35441220e-02], [2.66047671e+00], marker='+', facecolor = 'g', hatch=' ' #job01\n",
    "               [1.34773326e-01], [3.32993489e+00], marker='P', facecolor = 'g', hatch=' ' #job08\n",
    "               [2.70955593e-02], [1.91686398e+00], marker='.', facecolor = 'g', hatch=' ' #jobo5\n",
    "               [2.25735568e-02], [2.00129831e+00], marker='o', facecolor = 'g', hatch=' ' #job11\n",
    "               [4.60596932e-02], [3.11569130e+00], marker='+', facecolor = 'b', hatch=' ' #job03\n",
    "               [1.58837232e-01], [4.63884007e+00], marker='P', facecolor = 'b', hatch=' ' #job09\n",
    "               [3.43610586e-03], [2.00485067e+00], marker='.', facecolor = 'b', hatch=' ' #job06\n",
    "               [4.22963971e-03], [1.96987778e+00], marker='o', facecolor = 'b', hatch=' ' #job12\n",
    "               [8.29601436e-03], [1.18831166e+00], marker='s', facecolor = 'r', hatch=' ' #job10 \n",
    "               [1.80560603e-01], [2.01094183e+00], marker='s', facecolor = 'r', hatch=' ' #job13\n",
    "               [2.76279746e-02], [2.42592029e+00], marker='s', facecolor = 'g', hatch=' ' #job14\n",
    "               [1.20240292e-03], [1.96914576e+00], marker='s', facecolor = 'b', hatch=' ' #job15\n",
    "               [0.011], [10], marker='s', facecolor = 'g', hatch='/////////', #'F1=g, s' #F1_NoMag_L2, t=t_end, Seifried2015,Table 3.\n",
    "               #[0.036], [2.1],'kP', #'F1=g, P' #hatch='///' #F1_para_L2, t=t_form/2, Seifried2015,Table 3. \n",
    "               #[0.037], [2.0], 'kP', #'F1=g, P' #F1_para_L2, t=t_form, Seifried2015,Table 3. \n",
    "               [0.030], [1.7], marker='P', facecolor = 'g', hatch='/////////', #'F1=g, P' #F1_para_L2, t=t_end, Seifried2015,Table 3. \n",
    "               [0.028], [2.1], marker='o', facecolor = 'g', hatch='/////////', #'F1=g, o' #F1_perp_L2, t=t_end, Seifried2015,Table 3. \n",
    "               [0.0075], [5.6], marker='s', facecolor = 'b', hatch='/////////', #'F2=b, s' #F2_NoMag_L2, t=t_end, Seifried2015,Table 3. \n",
    "               [0.043], [3.4], marker='o', facecolor = 'b', hatch='/////////', #'F2=b, o' #F2_perp_L2, t=t_end, Seifried2015,Table 3. \n",
    "               [0.015], [12], marker='s', facecolor = 'm', hatch='/////////', #'F3=m, s' #F3_NoMag_L2, t=t_end, Seifried2015,Table 3.\n",
    "               #[0.021], [1.9], 'kP', #'F3=m, P' #F3_para_L2, t=t_form/2, Seifried2015,Table 3.\n",
    "               #[0.016], [2.0], 'kP', #'F3=m, P' #F3_para_L2, t=t_form, Seifried2015,Table 3.\n",
    "               [0.017], [1.9], marker='P', facecolor = 'm', hatch='/////////', #'F3=m, P' #F3_para_L2, t=t_end, Seifried2015,Table 3.\n",
    "               #[0.022], [2.0], 'ko', #'F3=m, o' #F3_perp_L2, t=t_form/2, Seifried2015,Table 3.\n",
    "               #[0.0014], [1.8], 'ko', #'F3=m, o' #F3_perp_L2, t=t_form, Seifried2015,Table 3.\n",
    "               [0.0041], [1.8], marker='o', facecolor = 'm', hatch='/////////', #'F3=m, o' #F3_perp_L2, t=t_end, Seifried2015,Table 3.\n",
    "               [0.0090], [5.8], marker='s', facecolor = 'm', hatch='/////////' #'F3=m, s' #F3_NoMag_L2_M2.5, t=t_end, Seifried2015,Table 3.\n",
    "             )\n",
    "\n",
    "           \n",
    "#     for Rflat in Rflats:                   \n",
    "#         if Rflat - 6.35441220e-02 < eps :\n",
    "#             ax.scatter(Rflats, P, marker='+', facecolor = 'g')1\n",
    "            \n",
    "\n",
    "#         elif Rflat - 1.70860120e-01 < eps :\n",
    "#             ax.scatter(Rflats, P, marker='+', facecolor = 'r')2\n",
    "#         elif Rflat - 4.60596932e-02 < eps :\n",
    "#             ax.scatter(Rflats, P, marker='+', facecolor = 'b')3\n",
    "#         elif Rflat - 1.13237339e-01 < eps :\n",
    "#             ax.scatter(Rflats, P, marker='.', facecolor = 'r')4\n",
    "#         elif Rflat - 2.70955593e-02 < eps :\n",
    "#             ax.scatter(Rflats, P, marker='.', facecolor = 'g')5\n",
    "#         elif Rflat - 3.43610586e-03 < eps :\n",
    "#             ax.scatter(Rflats, P, marker='.', facecolor = 'b')6\n",
    "#         elif Rflat - 1.50118961e-01 < eps :\n",
    "#             ax.scatter(Rflats, P, marker='P', facecolor = 'r')7\n",
    "#         elif Rflat - 1.34773326e-01 < eps :\n",
    "#             ax.scatter(Rflats, P, marker='P', facecolor = 'g')8\n",
    "#         elif Rflat - 1.58837232e-01 < eps :\n",
    "#             ax.scatter(Rflats, P, marker='P', facecolor = 'b')9\n",
    "#         elif Rflat - 8.29601436e-03 < eps :\n",
    "#             ax.scatter(Rflats, P, marker='o', facecolor = 'r')10\n",
    "#         elif Rflat - 2.25735568e-02 < eps :\n",
    "#             ax.scatter(Rflats, P, marker='o', facecolor = 'g')11\n",
    "#         elif Rflat - 4.22963971e-03 < eps :\n",
    "#             ax.scatter(Rflats, P, marker='o', facecolor = 'b') 12\n",
    "#         elif Rflat - 1.80560603e-01 < eps :\n",
    "#             ax.scatter(Rflats, P, marker='s', facecolor = 'r')13     \n",
    "#         elif Rflat - 2.76279746e-02 < eps :\n",
    "#             ax.scatter(Rflats, P, marker='s', facecolor = 'g')14  \n",
    "#         elif Rflat - 1.20240292e-03 < eps :\n",
    "#             ax.scatter(Rflats, P, marker='s', facecolor = 'b')15\n",
    "            \n",
    "            \n",
    "                    \n",
    "#         elif Rflat - 0.011 < eps :\n",
    "#             ax.scatter(Rflats, P, marker='s', facecolor = 'g', hatch='/////////')1\n",
    "#         elif Rflat - 0.030 < eps :\n",
    "#             Iax.scatter(Rflats, P, marker='P', facecolor = 'g', hatch='/////////')2 \n",
    "#         elif Rflat - 0.028 < eps :\n",
    "#             ax.scatter(Rflats, P, marker='o', facecolor = 'g', hatch='/////////') 3  \n",
    "#         elif Rflat - 0.0075 < eps :\n",
    "#             ax.scatter(Rflats, P, marker='s', facecolor = 'b', hatch='/////////') 4\n",
    "#         elif Rflat - 0.043 < eps :\n",
    "#             ax.scatter(Rflats, P, marker='o', facecolor = 'b', hatch='/////////') 5\n",
    "#         elif Rflat - 0.015 < eps :\n",
    "#             ax.scatter(Rflats, P, marker='s', facecolor = 'm', hatch='/////////')6 \n",
    "#         elif Rflat - 0.017 < eps :\n",
    "#             ax.scatter(Rflats, P, marker='P', facecolor = 'm', hatch='/////////')7 \n",
    "#         elif Rflat - 0.0041 < eps :\n",
    "#             ax.scatter(Rflats, P, marker='o', facecolor = 'm', hatch='/////////') 8\n",
    "#         elif Rflat - 0.0090 < eps :\n",
    "#             ax.scatter(Rflats, P, marker='s', facecolor = 'm', hatch='/////////')9\n",
    "\n",
    "# #         ax.scatter(Rflats, P, marker=Indemarker, facecolor = Indecolor, hatch='/////////')"
   ]
  },
  {
   "cell_type": "code",
   "execution_count": 24,
   "metadata": {
    "scrolled": true
   },
   "outputs": [
    {
     "data": {
      "image/png": "[encoded data removed]",
      "text/plain": [
       "<Figure size 792x504 with 1 Axes>"
      ]
     },
     "metadata": {
      "needs_background": "light"
     },
     "output_type": "display_data"
    }
   ],
   "source": [
    "from matplotlib import rc\n",
    "rc('font',**{'family':'serif','serif':['Palatino'], 'size'   : 17})\n",
    "rc('text', usetex=True)\n",
    "\n",
    "fig1 = plt.figure(figsize=(11,7), dpi=72)\n",
    "plotType = ''\n",
    "\n",
    "\n",
    "makePlot (N, Rflats, P, plotType)\n",
    "\n",
    "\n",
    "plt.savefig(\"./P_against_Rflat_plot/P_against_Rflat_Seifried2015_added.png\", dpi=400, bbox_inches=\"tight\")\n",
    "\n",
    "plt.show()\n"
   ]
  },
  {
   "cell_type": "code",
   "execution_count": null,
   "metadata": {},
   "outputs": [],
   "source": []
  }
 ],
 "metadata": {
  "kernelspec": {
   "display_name": "Python 3",
   "language": "python",
   "name": "python3"
  },
  "language_info": {
   "codemirror_mode": {
    "name": "ipython",
    "version": 3
   },
   "file_extension": ".py",
   "mimetype": "text/x-python",
   "name": "python",
   "nbconvert_exporter": "python",
   "pygments_lexer": "ipython3",
   "version": "3.7.4"
  }
 },
 "nbformat": 4,
 "nbformat_minor": 2
}
