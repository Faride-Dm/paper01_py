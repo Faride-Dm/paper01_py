{
 "cells": [
  {
   "cell_type": "code",
   "execution_count": 9,
   "metadata": {},
   "outputs": [],
   "source": [
    "import numpy as np\n",
    "from matplotlib import pyplot as plt\n",
    "import math\n",
    "from astropy import constants as const\n",
    "from astropy import units as u"
   ]
  },
  {
   "cell_type": "code",
   "execution_count": 2,
   "metadata": {},
   "outputs": [
    {
     "name": "stdout",
     "output_type": "stream",
     "text": [
      "[8.5155506e-41 0.0000000e+00 7.4289246e+00 8.5308248e-41 1.4012985e-45\n",
      " 9.6788526e-40]\n"
     ]
    }
   ],
   "source": [
    "from scipy.io import FortranFile\n",
    "f = FortranFile('N450M37rho15h120B57_00000', 'r')\n",
    "a = f.read_reals(dtype='float32')\n",
    "print(a)"
   ]
  },
  {
   "cell_type": "code",
   "execution_count": 3,
   "metadata": {},
   "outputs": [
    {
     "name": "stdout",
     "output_type": "stream",
     "text": [
      "[1.2504340e+10 7.5545794e+31 2.7128768e-09 6.3373562e-10 5.2710881e-08\n",
      " 8.1730242e+20 4.4797641e+24 1.0985243e+27 8.4689748e-13 1.1431515e+33\n",
      " 6.1083079e-04 1.6479662e-10 1.0198434e-08 1.4924386e-19 2.7096230e-09\n",
      " 1.0623175e-05 1.3568468e-19 1.3563156e-19 1.3563156e-19 1.3563156e-19\n",
      " 1.3563156e-19 1.3563156e-19 1.3563156e-19 1.3563156e-19 1.3563156e-19]\n"
     ]
    }
   ],
   "source": [
    "a = f.read_reals(dtype='float32')\n",
    "print(a)"
   ]
  },
  {
   "cell_type": "code",
   "execution_count": 4,
   "metadata": {},
   "outputs": [
    {
     "name": "stdout",
     "output_type": "stream",
     "text": [
      "[2.5e-44]\n"
     ]
    }
   ],
   "source": [
    "a = f.read_reals(dtype='float32')\n",
    "print(a)"
   ]
  },
  {
   "cell_type": "code",
   "execution_count": 5,
   "metadata": {},
   "outputs": [
    {
     "name": "stdout",
     "output_type": "stream",
     "text": [
      "[4.4652830e+30 7.5886285e+31 1.3563156e-19 1.3563156e-19 3.0881009e+29\n",
      " 1.3590708e-19 1.3563156e-19 1.3563156e-19 4.4652830e+30 7.3027882e+31\n",
      " 1.9434269e-19 1.3563156e-19 4.4652830e+30 7.3027882e+31 1.9434269e-19\n",
      " 1.3563156e-19 4.4652830e+30 7.3027882e+31 1.9434269e-19 1.3563156e-19\n",
      " 4.4652830e+30 7.3027882e+31 1.9434269e-19 1.3563156e-19 4.4652830e+30\n",
      " 7.3027882e+31 1.9434269e-19 1.3563156e-19 4.4652830e+30 7.3027882e+31\n",
      " 1.9434269e-19 1.3563156e-19 4.4652830e+30 7.3027882e+31 1.9434269e-19\n",
      " 1.3563156e-19 7.3157457e+28 2.0618432e-19 1.3563156e-19 1.3563156e-19\n",
      " 1.8062382e+28 1.3563253e-19 1.3563156e-19 1.3563156e-19 4.7281413e+27\n",
      " 2.0621076e-19 1.3563156e-19 1.3563156e-19 1.9441981e+31 4.4649753e+30\n",
      " 1.3586078e-19 1.3563156e-19 1.9441981e+31 2.7376235e+20 1.3588401e-19\n",
      " 1.3563156e-19 1.9441975e+31 1.3563265e-19 1.3563156e-19 1.3563156e-19\n",
      " 7.2537273e+28 1.3591717e-19 1.3563156e-19 1.3563156e-19 7.3784884e+28\n",
      " 1.3591717e-19 1.3563156e-19 1.3563156e-19 4.5043551e+30 1.3591714e-19\n",
      " 1.3563156e-19 1.3563156e-19]\n"
     ]
    }
   ],
   "source": [
    "a = f.read_reals(dtype='float32')\n",
    "print(a)"
   ]
  },
  {
   "cell_type": "code",
   "execution_count": 6,
   "metadata": {},
   "outputs": [
    {
     "name": "stdout",
     "output_type": "stream",
     "text": [
      "[9.87786e-40 9.80909e-45 9.87786e-40 0.00000e+00 0.00000e+00 0.00000e+00\n",
      " 0.00000e+00 0.00000e+00 0.00000e+00 1.40130e-45 0.00000e+00 0.00000e+00\n",
      " 0.00000e+00 0.00000e+00 9.80909e-45 1.40130e-45 4.20390e-45 0.00000e+00]\n"
     ]
    }
   ],
   "source": [
    "a = f.read_reals(dtype='float32')\n",
    "print(a)"
   ]
  },
  {
   "cell_type": "code",
   "execution_count": 7,
   "metadata": {},
   "outputs": [
    {
     "name": "stdout",
     "output_type": "stream",
     "text": [
      "[     60769          0 1089321408      60878          1     690706]\n"
     ]
    }
   ],
   "source": [
    "f = FortranFile('N450M37rho15h120B57_00000', 'r')\n",
    "print(f.read_ints(np.int32))\n"
   ]
  },
  {
   "cell_type": "code",
   "execution_count": 8,
   "metadata": {},
   "outputs": [
    {
     "ename": "ValueError",
     "evalue": "Size obtained (100) is not a multiple of the dtypes given (8).",
     "output_type": "error",
     "traceback": [
      "\u001b[0;31m---------------------------------------------------------------------------\u001b[0m",
      "\u001b[0;31mValueError\u001b[0m                                Traceback (most recent call last)",
      "\u001b[0;32m<ipython-input-8-d1c6eeff1deb>\u001b[0m in \u001b[0;36m<module>\u001b[0;34m\u001b[0m\n\u001b[0;32m----> 1\u001b[0;31m \u001b[0mprint\u001b[0m\u001b[0;34m(\u001b[0m\u001b[0mf\u001b[0m\u001b[0;34m.\u001b[0m\u001b[0mread_reals\u001b[0m\u001b[0;34m(\u001b[0m\u001b[0mfloat\u001b[0m\u001b[0;34m)\u001b[0m\u001b[0;34m)\u001b[0m\u001b[0;34m\u001b[0m\u001b[0;34m\u001b[0m\u001b[0m\n\u001b[0m\u001b[1;32m      2\u001b[0m \u001b[0mf\u001b[0m\u001b[0;34m.\u001b[0m\u001b[0mclose\u001b[0m\u001b[0;34m(\u001b[0m\u001b[0;34m)\u001b[0m\u001b[0;34m\u001b[0m\u001b[0;34m\u001b[0m\u001b[0m\n",
      "\u001b[0;32m~/anaconda3/lib/python3.7/site-packages/scipy/io/_fortran.py\u001b[0m in \u001b[0;36mread_reals\u001b[0;34m(self, dtype)\u001b[0m\n\u001b[1;32m    300\u001b[0m \u001b[0;34m\u001b[0m\u001b[0m\n\u001b[1;32m    301\u001b[0m         \"\"\"\n\u001b[0;32m--> 302\u001b[0;31m         \u001b[0;32mreturn\u001b[0m \u001b[0mself\u001b[0m\u001b[0;34m.\u001b[0m\u001b[0mread_record\u001b[0m\u001b[0;34m(\u001b[0m\u001b[0mdtype\u001b[0m\u001b[0;34m)\u001b[0m\u001b[0;34m\u001b[0m\u001b[0;34m\u001b[0m\u001b[0m\n\u001b[0m\u001b[1;32m    303\u001b[0m \u001b[0;34m\u001b[0m\u001b[0m\n\u001b[1;32m    304\u001b[0m     \u001b[0;32mdef\u001b[0m \u001b[0mclose\u001b[0m\u001b[0;34m(\u001b[0m\u001b[0mself\u001b[0m\u001b[0;34m)\u001b[0m\u001b[0;34m:\u001b[0m\u001b[0;34m\u001b[0m\u001b[0;34m\u001b[0m\u001b[0m\n",
      "\u001b[0;32m~/anaconda3/lib/python3.7/site-packages/scipy/io/_fortran.py\u001b[0m in \u001b[0;36mread_record\u001b[0;34m(self, *dtypes, **kwargs)\u001b[0m\n\u001b[1;32m    225\u001b[0m         \u001b[0;32mif\u001b[0m \u001b[0mremainder\u001b[0m \u001b[0;34m!=\u001b[0m \u001b[0;36m0\u001b[0m\u001b[0;34m:\u001b[0m\u001b[0;34m\u001b[0m\u001b[0;34m\u001b[0m\u001b[0m\n\u001b[1;32m    226\u001b[0m             raise ValueError('Size obtained ({0}) is not a multiple of the '\n\u001b[0;32m--> 227\u001b[0;31m                              'dtypes given ({1}).'.format(first_size, block_size))\n\u001b[0m\u001b[1;32m    228\u001b[0m \u001b[0;34m\u001b[0m\u001b[0m\n\u001b[1;32m    229\u001b[0m         \u001b[0;32mif\u001b[0m \u001b[0mlen\u001b[0m\u001b[0;34m(\u001b[0m\u001b[0mdtypes\u001b[0m\u001b[0;34m)\u001b[0m \u001b[0;34m!=\u001b[0m \u001b[0;36m1\u001b[0m \u001b[0;32mand\u001b[0m \u001b[0mfirst_size\u001b[0m \u001b[0;34m!=\u001b[0m \u001b[0mblock_size\u001b[0m\u001b[0;34m:\u001b[0m\u001b[0;34m\u001b[0m\u001b[0;34m\u001b[0m\u001b[0m\n",
      "\u001b[0;31mValueError\u001b[0m: Size obtained (100) is not a multiple of the dtypes given (8)."
     ]
    }
   ],
   "source": [
    "print(f.read_reals(float))\n",
    "f.close()"
   ]
  },
  {
   "cell_type": "code",
   "execution_count": 19,
   "metadata": {},
   "outputs": [],
   "source": [
    "FILE = open('N450M37rho15h120B57_00000',\"rb\")\n",
    "\n",
    "def getBytes(self, file, numBytes):\n",
    "\n",
    "      bArray = file.read(numBytes)\n",
    "      x=0\n",
    "      while x < numBytes:\n",
    "\n",
    "        if (bArray[x] < 32) or (bArray[x] > 126):\n",
    "          bArray[x] = 32\n",
    "        x+=1\n",
    "\n",
    "      charArray = bArray.decode(\"utf-8\")\n",
    "\n",
    "      self.buffer += numBytes\n",
    "\n",
    "      return charArray\n",
    "\n",
    "file =  open('N450M37rho15h120B57_00000', \"rb\")"
   ]
  },
  {
   "cell_type": "code",
   "execution_count": null,
   "metadata": {},
   "outputs": [],
   "source": [
    "FILE.read(numBytes)"
   ]
  }
 ],
 "metadata": {
  "kernelspec": {
   "display_name": "Python 3",
   "language": "python",
   "name": "python3"
  },
  "language_info": {
   "codemirror_mode": {
    "name": "ipython",
    "version": 3
   },
   "file_extension": ".py",
   "mimetype": "text/x-python",
   "name": "python",
   "nbconvert_exporter": "python",
   "pygments_lexer": "ipython3",
   "version": "3.7.4"
  }
 },
 "nbformat": 4,
 "nbformat_minor": 4
}
